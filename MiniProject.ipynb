{
  "nbformat": 4,
  "nbformat_minor": 0,
  "metadata": {
    "colab": {
      "name": "MiniProject.ipynb",
      "provenance": [],
      "authorship_tag": "ABX9TyPN2E67YckkbeWpHWqcL980",
      "include_colab_link": true
    },
    "kernelspec": {
      "name": "python3",
      "display_name": "Python 3"
    },
    "language_info": {
      "name": "python"
    }
  },
  "cells": [
    {
      "cell_type": "markdown",
      "metadata": {
        "id": "view-in-github",
        "colab_type": "text"
      },
      "source": [
        "<a href=\"https://colab.research.google.com/github/Zephyrus7/Assignment2/blob/master/MiniProject.ipynb\" target=\"_parent\"><img src=\"https://colab.research.google.com/assets/colab-badge.svg\" alt=\"Open In Colab\"/></a>"
      ]
    },
    {
      "cell_type": "code",
      "execution_count": null,
      "metadata": {
        "id": "V1yHTu3pL4o7"
      },
      "outputs": [],
      "source": [
        "while True:\n",
        "  print(\"lorem ipsum\")"
      ]
    },
    {
      "cell_type": "code",
      "source": [
        "for i in range(1,100,5): \n",
        "  print(i); "
      ],
      "metadata": {
        "id": "Sh8W34JnNbT8"
      },
      "execution_count": null,
      "outputs": []
    },
    {
      "cell_type": "code",
      "source": [
        "#Araç Bilgileri\n",
        "dict[\"Subaru Impreza\"] = {'tipi': 'sedan', '0-100KMH': '7 Saniye', 'Beygir':220}\n",
        "dict[\"Koenigsegg One\"] = {'tipi': 'mega', '0-100KMH': '2.5 Saniye', 'Beygir':1360}\n",
        "\n",
        "print(dict[\"Subaru Impreza\"])\n",
        "print(dict[\"Koenigsegg One\"])"
      ],
      "metadata": {
        "colab": {
          "base_uri": "https://localhost:8080/"
        },
        "id": "lL_Y1avpN9r7",
        "outputId": "8ca6119f-ef64-4d8f-e043-d6328734e31e"
      },
      "execution_count": 38,
      "outputs": [
        {
          "output_type": "stream",
          "name": "stdout",
          "text": [
            "{'tipi': 'sedan', '0-100KMH': '7 Saniye', 'Beygir': 220}\n",
            "{'tipi': 'mega', '0-100KMH': '2.5 Saniye', 'Beygir': 1360}\n"
          ]
        }
      ]
    },
    {
      "cell_type": "code",
      "source": [
        "#Listeler\n",
        "import random\n",
        "\n",
        "placeholderListe = [\"lorem\", \"ipsum\", \"dolor\", \"sit\",\"420\",\"E3\"]\n",
        "\n",
        "print(placeholderListe[0])\n",
        "print(placeholderListe[1])\n",
        "print(placeholderListe[-2]) \n",
        "print(random.choice(placeholderListe))\n"
      ],
      "metadata": {
        "colab": {
          "base_uri": "https://localhost:8080/"
        },
        "id": "81SvyFICP72n",
        "outputId": "c7e6f221-4204-462e-b01f-0c5a73386d7e"
      },
      "execution_count": 31,
      "outputs": [
        {
          "output_type": "stream",
          "name": "stdout",
          "text": [
            "lorem\n",
            "ipsum\n",
            "420\n",
            "sit\n"
          ]
        }
      ]
    },
    {
      "cell_type": "code",
      "source": [
        "#if, elif ve else kullanımı\n",
        "\n",
        "print('Bu aracı kiralamak için 21 yaş üstü olmanız gerekiyor. Yaşınız?\\n')\n",
        "\n",
        "age = int(input('Yaşınızı giriniz:')) \n",
        "\n",
        "if age > 21:\n",
        "    print('\\nBu aracı kiralayabilirsiniz.')\n",
        "elif age == 21:\n",
        "    print('\\nGörüşmeye gelmeniz gerekiyor.')\n",
        "else:\n",
        "    print('\\nBu aracı kiralayamazsınız.')"
      ],
      "metadata": {
        "colab": {
          "base_uri": "https://localhost:8080/"
        },
        "id": "4-7S5duLk4Oo",
        "outputId": "ee3db3a9-d27e-4a09-ff4b-e232ec629a5e"
      },
      "execution_count": 42,
      "outputs": [
        {
          "output_type": "stream",
          "name": "stdout",
          "text": [
            "Bu aracı kiralamak için 21 yaş üstü olmanız gerekiyor. Yaşınız?\n",
            "\n",
            "Yaşınızı giriniz:33\n",
            "\n",
            "Bu aracı kiralayabilirsiniz.\n"
          ]
        }
      ]
    },
    {
      "cell_type": "code",
      "source": [
        "def fonksiyonÖrneği(moodTester): \n",
        "  print(moodTester)\n",
        "\n",
        "fonksiyonÖrneği (\"Merhaba! \")\n",
        "\n",
        "duygu = input(\"Bugün nasıl hissediyorsun? \")\n",
        "\n",
        "fonksiyonÖrneği(\"Bugün {} hissediyorsun.\".format(duygu))"
      ],
      "metadata": {
        "colab": {
          "base_uri": "https://localhost:8080/"
        },
        "id": "ox3FLQ_Kk4Tj",
        "outputId": "ff54e1e8-cb88-4c20-c767-626bf773c8a9"
      },
      "execution_count": 47,
      "outputs": [
        {
          "output_type": "stream",
          "name": "stdout",
          "text": [
            "Merhaba! \n",
            "Bugün nasıl hissediyorsun? ii\n",
            "Bugün ii hissediyorsun.\n"
          ]
        }
      ]
    }
  ]
}